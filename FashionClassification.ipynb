{
 "cells": [
  {
   "cell_type": "markdown",
   "metadata": {},
   "source": [
    "## Fashion MNIST classification"
   ]
  },
  {
   "cell_type": "code",
   "execution_count": 2,
   "metadata": {},
   "outputs": [],
   "source": [
    "from collections import defaultdict\n",
    "import os, glob, random, sys, time, keras, cv2, itertools, sklearn\n",
    "import matplotlib.pyplot as plt\n",
    "import numpy as np\n",
    "from sklearn.metrics import confusion_matrix\n",
    "from keras.preprocessing import image\n",
    "from sklearn.metrics import accuracy_score\n",
    "from keras.callbacks import ModelCheckpoint\n",
    "from keras.applications.vgg16 import VGG16, preprocess_input\n",
    "from keras.preprocessing.image import ImageDataGenerator\n",
    "from keras.optimizers import Adam\n",
    "from keras.models import Model\n",
    "from collections import Counter\n",
    "from matplotlib import pyplot as plt\n",
    "%matplotlib inline\n",
    "from sklearn.metrics import roc_curve, auc\n",
    "from scipy import interp\n",
    "from sklearn.metrics import classification_report\n",
    "from sklearn.metrics import precision_recall_curve, average_precision_score\n",
    "from sklearn.utils.fixes import signature\n",
    "from keras.utils import to_categorical\n",
    "from keras.datasets import fashion_mnist\n",
    "from keras.models import *\n",
    "from keras.layers import *"
   ]
  },
  {
   "cell_type": "code",
   "execution_count": 3,
   "metadata": {},
   "outputs": [
    {
     "name": "stdout",
     "output_type": "stream",
     "text": [
      "Downloading data from http://fashion-mnist.s3-website.eu-central-1.amazonaws.com/train-labels-idx1-ubyte.gz\n",
      "32768/29515 [=================================] - 0s 2us/step\n",
      "Downloading data from http://fashion-mnist.s3-website.eu-central-1.amazonaws.com/train-images-idx3-ubyte.gz\n",
      "26427392/26421880 [==============================] - 18s 1us/step\n",
      "Downloading data from http://fashion-mnist.s3-website.eu-central-1.amazonaws.com/t10k-labels-idx1-ubyte.gz\n",
      "8192/5148 [===============================================] - 0s 0us/step\n",
      "Downloading data from http://fashion-mnist.s3-website.eu-central-1.amazonaws.com/t10k-images-idx3-ubyte.gz\n",
      "4423680/4422102 [==============================] - 3s 1us/step\n"
     ]
    }
   ],
   "source": [
    "#load mnist dataset\n",
    "(X_train, y_train), (X_test, y_test) = fashion_mnist.load_data()"
   ]
  },
  {
   "cell_type": "code",
   "execution_count": 5,
   "metadata": {},
   "outputs": [
    {
     "name": "stdout",
     "output_type": "stream",
     "text": [
      "(60000, 28, 28)\n",
      "(60000,)\n",
      "(10000, 28, 28)\n",
      "(10000,)\n"
     ]
    }
   ],
   "source": [
    "# Printing the shape of the Train and test Data\n",
    "print(X_train.shape)\n",
    "print(y_train.shape)\n",
    "print(X_test.shape)\n",
    "print(y_test.shape)"
   ]
  },
  {
   "cell_type": "code",
   "execution_count": 7,
   "metadata": {
    "collapsed": true
   },
   "outputs": [],
   "source": [
    "cDir=os.getcwd()\n",
    "for i in range(len(X_test)):\n",
    "    image=X_test[i,:,:]\n",
    "    img=image.reshape(28,28)\n",
    "    number='%04d'%i\n",
    "    path=cDir+'/test/'+str(number)+'.png'\n",
    "    cv2.imwrite(path,img)"
   ]
  },
  {
   "cell_type": "code",
   "execution_count": 17,
   "metadata": {
    "collapsed": true
   },
   "outputs": [],
   "source": [
    "# Comments\n",
    "# There are 60000 images in Training with the size 28x28\n",
    "# There are 10000 images in Test with the size 28x28"
   ]
  },
  {
   "cell_type": "code",
   "execution_count": 8,
   "metadata": {},
   "outputs": [
    {
     "data": {
      "image/png": "[encoded data removed]",
      "text/plain": [
       "<Figure size 432x288 with 10 Axes>"
      ]
     },
     "metadata": {},
     "output_type": "display_data"
    }
   ],
   "source": [
    "# Plot 0~9 Hand written digits for understanding\n",
    "x=np.unique(y_train)\n",
    "unique=[]\n",
    "\n",
    "for i in range(len(x)):\n",
    "    number=x[i]\n",
    "    for j in range(len(y_train)):\n",
    "        getNumber=y_train[j]\n",
    "        if getNumber==number:\n",
    "            unique.append(j)\n",
    "            break\n",
    "            \n",
    "fig = plt.figure()\n",
    "for i in range(len(unique)):\n",
    "    index=unique[i]\n",
    "    plt.subplot(5,2,i+1)\n",
    "    plt.tight_layout()\n",
    "    plt.imshow(X_train[index], cmap='gray', interpolation='none')\n",
    "    plt.title(\"Digit: {}\".format(y_train[index]))\n",
    "    plt.xticks([])\n",
    "    plt.yticks([])\n"
   ]
  },
  {
   "cell_type": "markdown",
   "metadata": {},
   "source": [
    "## Create the model with the VGG16"
   ]
  },
  {
   "cell_type": "code",
   "execution_count": 9,
   "metadata": {
    "collapsed": true
   },
   "outputs": [],
   "source": [
    "input_shape=(28,28,1)\n",
    "model = Sequential()\n",
    "model.add(Conv2D(32,\n",
    "                 kernel_size=(3, 3),\n",
    "                 activation='relu',\n",
    "                 input_shape=input_shape))\n",
    "model.add(Conv2D(64, \n",
    "                 kernel_size=(3, 3),\n",
    "                 activation='relu'))\n",
    "model.add(Conv2D(128, \n",
    "                 kernel_size=(3, 3),\n",
    "                 activation='relu'))\n",
    "model.add(MaxPooling2D(pool_size=(2, 2)))\n",
    "model.add(Dropout(0.25))\n",
    "model.add(Flatten())\n",
    "model.add(Dense(128, activation='relu'))\n",
    "model.add(Dropout(0.5))\n",
    "model.add(Dense(len(x), activation='softmax'))"
   ]
  },
  {
   "cell_type": "code",
   "execution_count": 10,
   "metadata": {},
   "outputs": [
    {
     "name": "stdout",
     "output_type": "stream",
     "text": [
      "_________________________________________________________________\n",
      "Layer (type)                 Output Shape              Param #   \n",
      "=================================================================\n",
      "conv2d_1 (Conv2D)            (None, 26, 26, 32)        320       \n",
      "_________________________________________________________________\n",
      "conv2d_2 (Conv2D)            (None, 24, 24, 64)        18496     \n",
      "_________________________________________________________________\n",
      "conv2d_3 (Conv2D)            (None, 22, 22, 128)       73856     \n",
      "_________________________________________________________________\n",
      "max_pooling2d_1 (MaxPooling2 (None, 11, 11, 128)       0         \n",
      "_________________________________________________________________\n",
      "dropout_1 (Dropout)          (None, 11, 11, 128)       0         \n",
      "_________________________________________________________________\n",
      "flatten_1 (Flatten)          (None, 15488)             0         \n",
      "_________________________________________________________________\n",
      "dense_1 (Dense)              (None, 128)               1982592   \n",
      "_________________________________________________________________\n",
      "dropout_2 (Dropout)          (None, 128)               0         \n",
      "_________________________________________________________________\n",
      "dense_2 (Dense)              (None, 10)                1290      \n",
      "=================================================================\n",
      "Total params: 2,076,554\n",
      "Trainable params: 2,076,554\n",
      "Non-trainable params: 0\n",
      "_________________________________________________________________\n",
      "0 conv2d_1\n",
      "1 conv2d_2\n",
      "2 conv2d_3\n",
      "3 max_pooling2d_1\n",
      "4 dropout_1\n",
      "5 flatten_1\n",
      "6 dense_1\n",
      "7 dropout_2\n",
      "8 dense_2\n"
     ]
    }
   ],
   "source": [
    "model.summary()\n",
    "\n",
    "model.compile(optimizer='adadelta',\n",
    "              loss='categorical_crossentropy',\n",
    "              metrics=['accuracy'])\n",
    "\n",
    "for i, layer in enumerate(model.layers):\n",
    "    print(i, layer.name)"
   ]
  },
  {
   "cell_type": "code",
   "execution_count": 11,
   "metadata": {},
   "outputs": [
    {
     "name": "stdout",
     "output_type": "stream",
     "text": [
      "X_train shape: (60000, 28, 28, 1)\n"
     ]
    }
   ],
   "source": [
    "img_rows, img_cols = 28, 28\n",
    "\n",
    "X_train = X_train.reshape(X_train.shape[0], img_rows, img_cols, 1)\n",
    "X_test = X_test.reshape(X_test.shape[0], img_rows, img_cols, 1)\n",
    "input_shape = (img_rows, img_cols, 1)\n",
    "\n",
    "#more reshaping\n",
    "X_train = X_train.astype('float32')\n",
    "X_test = X_test.astype('float32')\n",
    "X_train /= 255\n",
    "X_test /= 255\n",
    "\n",
    "print('X_train shape:', X_train.shape) \n",
    "#X_train shape: (60000, 28, 28, 1)\n",
    "# convert class vectors to binary class matrices\n",
    "\n",
    "y_train = to_categorical(y_train, len(x))\n",
    "y_test = to_categorical(y_test, len(x))"
   ]
  },
  {
   "cell_type": "code",
   "execution_count": 12,
   "metadata": {},
   "outputs": [
    {
     "name": "stdout",
     "output_type": "stream",
     "text": [
      "Train on 60000 samples, validate on 10000 samples\n",
      "Epoch 1/30\n",
      "60000/60000 [==============================] - 14s 238us/step - loss: 0.5310 - acc: 0.8121 - val_loss: 0.3280 - val_acc: 0.8809\n",
      "Epoch 2/30\n",
      "60000/60000 [==============================] - 12s 193us/step - loss: 0.3334 - acc: 0.8811 - val_loss: 0.2650 - val_acc: 0.9032\n",
      "Epoch 3/30\n",
      "60000/60000 [==============================] - 12s 195us/step - loss: 0.2778 - acc: 0.9002 - val_loss: 0.2514 - val_acc: 0.9102\n",
      "Epoch 4/30\n",
      "60000/60000 [==============================] - 12s 193us/step - loss: 0.2467 - acc: 0.9098 - val_loss: 0.2362 - val_acc: 0.9160\n",
      "Epoch 5/30\n",
      "60000/60000 [==============================] - 12s 194us/step - loss: 0.2197 - acc: 0.9199 - val_loss: 0.2243 - val_acc: 0.9186\n",
      "Epoch 6/30\n",
      "60000/60000 [==============================] - 12s 195us/step - loss: 0.2020 - acc: 0.9254 - val_loss: 0.2315 - val_acc: 0.9189\n",
      "Epoch 7/30\n",
      "60000/60000 [==============================] - 12s 194us/step - loss: 0.1858 - acc: 0.9324 - val_loss: 0.2166 - val_acc: 0.9248\n",
      "Epoch 8/30\n",
      "60000/60000 [==============================] - 12s 196us/step - loss: 0.1676 - acc: 0.9372 - val_loss: 0.2255 - val_acc: 0.9249\n",
      "Epoch 9/30\n",
      "60000/60000 [==============================] - 12s 195us/step - loss: 0.1541 - acc: 0.9432 - val_loss: 0.2206 - val_acc: 0.9271\n",
      "Epoch 10/30\n",
      "60000/60000 [==============================] - 12s 194us/step - loss: 0.1389 - acc: 0.9469 - val_loss: 0.2168 - val_acc: 0.9281\n",
      "Epoch 11/30\n",
      "60000/60000 [==============================] - 12s 194us/step - loss: 0.1297 - acc: 0.9513 - val_loss: 0.2138 - val_acc: 0.9302\n",
      "Epoch 12/30\n",
      "60000/60000 [==============================] - 12s 194us/step - loss: 0.1210 - acc: 0.9543 - val_loss: 0.2153 - val_acc: 0.9283\n",
      "Epoch 13/30\n",
      "60000/60000 [==============================] - 12s 193us/step - loss: 0.1148 - acc: 0.9571 - val_loss: 0.2241 - val_acc: 0.9311\n",
      "Epoch 14/30\n",
      "60000/60000 [==============================] - 11s 192us/step - loss: 0.1057 - acc: 0.9602 - val_loss: 0.2252 - val_acc: 0.9294\n",
      "Epoch 15/30\n",
      "60000/60000 [==============================] - 12s 193us/step - loss: 0.0983 - acc: 0.9619 - val_loss: 0.2292 - val_acc: 0.9304\n",
      "Epoch 16/30\n",
      "60000/60000 [==============================] - 12s 197us/step - loss: 0.0940 - acc: 0.9642 - val_loss: 0.2405 - val_acc: 0.9318\n",
      "Epoch 17/30\n",
      "60000/60000 [==============================] - 12s 195us/step - loss: 0.0863 - acc: 0.9668 - val_loss: 0.2451 - val_acc: 0.9319\n",
      "Epoch 18/30\n",
      "60000/60000 [==============================] - 12s 195us/step - loss: 0.0826 - acc: 0.9675 - val_loss: 0.2605 - val_acc: 0.9301\n",
      "Epoch 19/30\n",
      "60000/60000 [==============================] - 12s 194us/step - loss: 0.0807 - acc: 0.9691 - val_loss: 0.2569 - val_acc: 0.9300\n",
      "Epoch 20/30\n",
      "60000/60000 [==============================] - 12s 195us/step - loss: 0.0762 - acc: 0.9718 - val_loss: 0.2547 - val_acc: 0.9329\n",
      "Epoch 21/30\n",
      "60000/60000 [==============================] - 12s 194us/step - loss: 0.0709 - acc: 0.9722 - val_loss: 0.2711 - val_acc: 0.9312\n",
      "Epoch 22/30\n",
      "60000/60000 [==============================] - 12s 194us/step - loss: 0.0697 - acc: 0.9737 - val_loss: 0.2742 - val_acc: 0.9298\n",
      "Epoch 23/30\n",
      "60000/60000 [==============================] - 12s 201us/step - loss: 0.0660 - acc: 0.9750 - val_loss: 0.2784 - val_acc: 0.9312\n",
      "Epoch 24/30\n",
      "60000/60000 [==============================] - 12s 200us/step - loss: 0.0646 - acc: 0.9754 - val_loss: 0.2779 - val_acc: 0.9337\n",
      "Epoch 25/30\n",
      "60000/60000 [==============================] - 12s 201us/step - loss: 0.0602 - acc: 0.9771 - val_loss: 0.2866 - val_acc: 0.9338\n",
      "Epoch 26/30\n",
      "60000/60000 [==============================] - 12s 200us/step - loss: 0.0591 - acc: 0.9778 - val_loss: 0.3151 - val_acc: 0.9333\n",
      "Epoch 27/30\n",
      "60000/60000 [==============================] - 12s 203us/step - loss: 0.0550 - acc: 0.9790 - val_loss: 0.3102 - val_acc: 0.9336\n",
      "Epoch 28/30\n",
      "60000/60000 [==============================] - 12s 198us/step - loss: 0.0567 - acc: 0.9785 - val_loss: 0.3024 - val_acc: 0.9311\n",
      "Epoch 29/30\n",
      "60000/60000 [==============================] - 12s 197us/step - loss: 0.0566 - acc: 0.9782 - val_loss: 0.3287 - val_acc: 0.9325\n",
      "Epoch 30/30\n",
      "60000/60000 [==============================] - 12s 196us/step - loss: 0.0533 - acc: 0.9800 - val_loss: 0.3041 - val_acc: 0.9331\n"
     ]
    }
   ],
   "source": [
    "history = model.fit(X_train, y_train,\n",
    "                    batch_size=128,\n",
    "                    epochs=30,\n",
    "                    verbose=1,\n",
    "                    validation_data=(X_test, y_test))"
   ]
  },
  {
   "cell_type": "code",
   "execution_count": 13,
   "metadata": {},
   "outputs": [
    {
     "name": "stdout",
     "output_type": "stream",
     "text": [
      "10000/10000 [==============================] - 1s 125us/step\n",
      "Test loss: 0.3041458921426907\n",
      "Test accuracy: 0.9331\n"
     ]
    }
   ],
   "source": [
    "score = model.evaluate(X_test, y_test, verbose=1)\n",
    "print('Test loss:', score[0]) \n",
    "print('Test accuracy:', score[1]) \n",
    "\n",
    "\n",
    "# Test loss: 0.3041458921426907\n",
    "# Test accuracy: 0.9331"
   ]
  },
  {
   "cell_type": "code",
   "execution_count": 14,
   "metadata": {},
   "outputs": [
    {
     "name": "stderr",
     "output_type": "stream",
     "text": [
      "C:\\Users\\kamru\\Anaconda3\\lib\\site-packages\\matplotlib\\cbook\\deprecation.py:107: MatplotlibDeprecationWarning: Passing one of 'on', 'true', 'off', 'false' as a boolean is deprecated; use an actual boolean (True/False) instead.\n",
      "  warnings.warn(message, mplDeprecation, stacklevel=1)\n"
     ]
    },
    {
     "data": {
      "image/png": "[encoded data removed]",
      "text/plain": [
       "<Figure size 432x288 with 1 Axes>"
      ]
     },
     "metadata": {},
     "output_type": "display_data"
    },
    {
     "data": {
      "image/png": "[encoded data removed]",
      "text/plain": [
       "<Figure size 432x288 with 1 Axes>"
      ]
     },
     "metadata": {},
     "output_type": "display_data"
    }
   ],
   "source": [
    "# plotting the metrics\n",
    "plt.figure()\n",
    "plt.plot(history.history['acc'])\n",
    "plt.plot(history.history['val_acc'])\n",
    "plt.title('model accuracy')\n",
    "plt.ylabel('accuracy')\n",
    "plt.xlabel('epoch')\n",
    "plt.grid('on')\n",
    "plt.legend(['train', 'test'], loc='lower right')\n",
    "\n",
    "\n",
    "\n",
    "plt.figure()\n",
    "plt.plot(history.history['loss'])\n",
    "plt.plot(history.history['val_loss'])\n",
    "plt.title('model loss')\n",
    "plt.ylabel('loss')\n",
    "plt.grid('on')\n",
    "plt.xlabel('epoch')\n",
    "plt.legend(['train', 'test'], loc='upper right')\n",
    "plt.tight_layout()"
   ]
  },
  {
   "cell_type": "code",
   "execution_count": null,
   "metadata": {
    "collapsed": true
   },
   "outputs": [],
   "source": []
  },
  {
   "cell_type": "code",
   "execution_count": null,
   "metadata": {
    "collapsed": true
   },
   "outputs": [],
   "source": []
  }
 ],
 "metadata": {
  "kernelspec": {
   "display_name": "Python 3",
   "language": "python",
   "name": "python3"
  },
  "language_info": {
   "codemirror_mode": {
    "name": "ipython",
    "version": 3
   },
   "file_extension": ".py",
   "mimetype": "text/x-python",
   "name": "python",
   "nbconvert_exporter": "python",
   "pygments_lexer": "ipython3",
   "version": "3.6.3"
  }
 },
 "nbformat": 4,
 "nbformat_minor": 2
}
