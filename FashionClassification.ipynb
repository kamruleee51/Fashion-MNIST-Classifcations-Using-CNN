{
 "cells": [
  {
   "cell_type": "markdown",
   "metadata": {},
   "source": [
    "## Hand writting (Digit) classification"
   ]
  },
  {
   "cell_type": "code",
   "execution_count": 13,
   "metadata": {},
   "outputs": [],
   "source": [
    "from collections import defaultdict\n",
    "import os, glob, random, sys, time, keras, cv2, itertools, sklearn\n",
    "import matplotlib.pyplot as plt\n",
    "import numpy as np\n",
    "from sklearn.metrics import confusion_matrix\n",
    "from keras.preprocessing import image\n",
    "from sklearn.metrics import accuracy_score\n",
    "from keras.callbacks import ModelCheckpoint\n",
    "from keras.applications.vgg16 import VGG16, preprocess_input\n",
    "from keras.preprocessing.image import ImageDataGenerator\n",
    "from keras.optimizers import Adam\n",
    "from keras.models import Model\n",
    "from collections import Counter\n",
    "from matplotlib import pyplot as plt\n",
    "%matplotlib inline\n",
    "from sklearn.metrics import roc_curve, auc\n",
    "from scipy import interp\n",
    "from sklearn.metrics import classification_report\n",
    "from sklearn.metrics import precision_recall_curve, average_precision_score\n",
    "from sklearn.utils.fixes import signature\n",
    "from keras.utils import to_categorical\n",
    "from keras.datasets import mnist\n",
    "from keras.models import *\n",
    "from keras.layers import *"
   ]
  },
  {
   "cell_type": "code",
   "execution_count": 14,
   "metadata": {},
   "outputs": [],
   "source": [
    "#load mnist dataset\n",
    "(X_train, y_train), (X_test, y_test) = mnist.load_data()"
   ]
  },
  {
   "cell_type": "code",
   "execution_count": 15,
   "metadata": {},
   "outputs": [
    {
     "name": "stdout",
     "output_type": "stream",
     "text": [
      "(60000, 28, 28)\n",
      "(60000,)\n",
      "(10000, 28, 28)\n",
      "(10000,)\n"
     ]
    }
   ],
   "source": [
    "# Printing the shape of the Train and test Data\n",
    "print(X_train.shape)\n",
    "print(y_train.shape)\n",
    "print(X_test.shape)\n",
    "print(y_test.shape)"
   ]
  },
  {
   "cell_type": "code",
   "execution_count": 16,
   "metadata": {},
   "outputs": [],
   "source": [
    "cDir=os.getcwd()\n",
    "for i in range(len(X_test)):\n",
    "    image=X_test[i,:,:]\n",
    "    img=image.reshape(28,28)\n",
    "    number='%04d'%i\n",
    "    path=cDir+'/test/'+str(number)+'.png'\n",
    "    cv2.imwrite(path,img)"
   ]
  },
  {
   "cell_type": "code",
   "execution_count": 17,
   "metadata": {
    "collapsed": true
   },
   "outputs": [],
   "source": [
    "# Comments\n",
    "# There are 60000 images in Training with the size 28x28\n",
    "# There are 10000 images in Test with the size 28x28"
   ]
  },
  {
   "cell_type": "code",
   "execution_count": 18,
   "metadata": {},
   "outputs": [
    {
     "data": {
      "image/png": "[encoded data removed]",
      "text/plain": [
       "<Figure size 432x288 with 10 Axes>"
      ]
     },
     "metadata": {},
     "output_type": "display_data"
    }
   ],
   "source": [
    "# Plot 0~9 Hand written digits for understanding\n",
    "x=np.unique(y_train)\n",
    "unique=[]\n",
    "\n",
    "for i in range(len(x)):\n",
    "    number=x[i]\n",
    "    for j in range(len(y_train)):\n",
    "        getNumber=y_train[j]\n",
    "        if getNumber==number:\n",
    "            unique.append(j)\n",
    "            break\n",
    "            \n",
    "fig = plt.figure()\n",
    "for i in range(len(unique)):\n",
    "    index=unique[i]\n",
    "    plt.subplot(5,2,i+1)\n",
    "    plt.tight_layout()\n",
    "    plt.imshow(X_train[index], cmap='gray', interpolation='none')\n",
    "    plt.title(\"Digit: {}\".format(y_train[index]))\n",
    "    plt.xticks([])\n",
    "    plt.yticks([])\n"
   ]
  },
  {
   "cell_type": "markdown",
   "metadata": {},
   "source": [
    "## Create the model with the VGG16"
   ]
  },
  {
   "cell_type": "code",
   "execution_count": 19,
   "metadata": {},
   "outputs": [],
   "source": [
    "input_shape=(28,28,1)\n",
    "model = Sequential()\n",
    "model.add(Conv2D(32,\n",
    "                 kernel_size=(3, 3),\n",
    "                 activation='relu',\n",
    "                 input_shape=input_shape))\n",
    "model.add(Conv2D(64, \n",
    "                 kernel_size=(3, 3),\n",
    "                 activation='relu'))\n",
    "model.add(Conv2D(128, \n",
    "                 kernel_size=(3, 3),\n",
    "                 activation='relu'))\n",
    "model.add(MaxPooling2D(pool_size=(2, 2)))\n",
    "model.add(Dropout(0.25))\n",
    "model.add(Flatten())\n",
    "model.add(Dense(128, activation='relu'))\n",
    "model.add(Dropout(0.5))\n",
    "model.add(Dense(len(x), activation='softmax'))"
   ]
  },
  {
   "cell_type": "code",
   "execution_count": 20,
   "metadata": {},
   "outputs": [
    {
     "name": "stdout",
     "output_type": "stream",
     "text": [
      "_________________________________________________________________\n",
      "Layer (type)                 Output Shape              Param #   \n",
      "=================================================================\n",
      "conv2d_4 (Conv2D)            (None, 26, 26, 32)        320       \n",
      "_________________________________________________________________\n",
      "conv2d_5 (Conv2D)            (None, 24, 24, 64)        18496     \n",
      "_________________________________________________________________\n",
      "conv2d_6 (Conv2D)            (None, 22, 22, 128)       73856     \n",
      "_________________________________________________________________\n",
      "max_pooling2d_2 (MaxPooling2 (None, 11, 11, 128)       0         \n",
      "_________________________________________________________________\n",
      "dropout_3 (Dropout)          (None, 11, 11, 128)       0         \n",
      "_________________________________________________________________\n",
      "flatten_2 (Flatten)          (None, 15488)             0         \n",
      "_________________________________________________________________\n",
      "dense_3 (Dense)              (None, 128)               1982592   \n",
      "_________________________________________________________________\n",
      "dropout_4 (Dropout)          (None, 128)               0         \n",
      "_________________________________________________________________\n",
      "dense_4 (Dense)              (None, 10)                1290      \n",
      "=================================================================\n",
      "Total params: 2,076,554\n",
      "Trainable params: 2,076,554\n",
      "Non-trainable params: 0\n",
      "_________________________________________________________________\n",
      "0 conv2d_4\n",
      "1 conv2d_5\n",
      "2 conv2d_6\n",
      "3 max_pooling2d_2\n",
      "4 dropout_3\n",
      "5 flatten_2\n",
      "6 dense_3\n",
      "7 dropout_4\n",
      "8 dense_4\n"
     ]
    }
   ],
   "source": [
    "model.summary()\n",
    "\n",
    "model.compile(optimizer='adam',\n",
    "              loss='categorical_crossentropy',\n",
    "              metrics=['accuracy'])\n",
    "\n",
    "for i, layer in enumerate(model.layers):\n",
    "    print(i, layer.name)"
   ]
  },
  {
   "cell_type": "code",
   "execution_count": 21,
   "metadata": {},
   "outputs": [
    {
     "name": "stdout",
     "output_type": "stream",
     "text": [
      "X_train shape: (60000, 28, 28, 1)\n"
     ]
    }
   ],
   "source": [
    "img_rows, img_cols = 28, 28\n",
    "\n",
    "X_train = X_train.reshape(X_train.shape[0], img_rows, img_cols, 1)\n",
    "X_test = X_test.reshape(X_test.shape[0], img_rows, img_cols, 1)\n",
    "input_shape = (img_rows, img_cols, 1)\n",
    "\n",
    "#more reshaping\n",
    "X_train = X_train.astype('float32')\n",
    "X_test = X_test.astype('float32')\n",
    "X_train /= 255\n",
    "X_test /= 255\n",
    "\n",
    "print('X_train shape:', X_train.shape) \n",
    "#X_train shape: (60000, 28, 28, 1)\n",
    "# convert class vectors to binary class matrices\n",
    "\n",
    "y_train = to_categorical(y_train, len(x))\n",
    "y_test = to_categorical(y_test, len(x))"
   ]
  },
  {
   "cell_type": "code",
   "execution_count": 22,
   "metadata": {},
   "outputs": [
    {
     "name": "stdout",
     "output_type": "stream",
     "text": [
      "Train on 60000 samples, validate on 10000 samples\n",
      "Epoch 1/30\n",
      "60000/60000 [==============================] - 12s 205us/step - loss: 0.2043 - acc: 0.9378 - val_loss: 0.0412 - val_acc: 0.9855\n",
      "Epoch 2/30\n",
      "60000/60000 [==============================] - 12s 193us/step - loss: 0.0705 - acc: 0.9794 - val_loss: 0.0300 - val_acc: 0.9901\n",
      "Epoch 3/30\n",
      "60000/60000 [==============================] - 12s 194us/step - loss: 0.0532 - acc: 0.9847 - val_loss: 0.0305 - val_acc: 0.9900\n",
      "Epoch 4/30\n",
      "60000/60000 [==============================] - 12s 193us/step - loss: 0.0414 - acc: 0.9872 - val_loss: 0.0254 - val_acc: 0.9911\n",
      "Epoch 5/30\n",
      "60000/60000 [==============================] - 12s 195us/step - loss: 0.0346 - acc: 0.9892 - val_loss: 0.0251 - val_acc: 0.9919\n",
      "Epoch 6/30\n",
      "60000/60000 [==============================] - 12s 194us/step - loss: 0.0315 - acc: 0.9904 - val_loss: 0.0274 - val_acc: 0.9925\n",
      "Epoch 7/30\n",
      "60000/60000 [==============================] - 12s 195us/step - loss: 0.0275 - acc: 0.9913 - val_loss: 0.0242 - val_acc: 0.9917\n",
      "Epoch 8/30\n",
      "60000/60000 [==============================] - 12s 194us/step - loss: 0.0231 - acc: 0.9929 - val_loss: 0.0255 - val_acc: 0.9935\n",
      "Epoch 9/30\n",
      "60000/60000 [==============================] - 12s 194us/step - loss: 0.0204 - acc: 0.9931 - val_loss: 0.0289 - val_acc: 0.9922\n",
      "Epoch 10/30\n",
      "60000/60000 [==============================] - 12s 194us/step - loss: 0.0182 - acc: 0.9940 - val_loss: 0.0292 - val_acc: 0.9913\n",
      "Epoch 11/30\n",
      "60000/60000 [==============================] - 12s 194us/step - loss: 0.0177 - acc: 0.9939 - val_loss: 0.0255 - val_acc: 0.9929\n",
      "Epoch 12/30\n",
      "60000/60000 [==============================] - 12s 194us/step - loss: 0.0156 - acc: 0.9950 - val_loss: 0.0236 - val_acc: 0.9941\n",
      "Epoch 13/30\n",
      "60000/60000 [==============================] - 12s 194us/step - loss: 0.0161 - acc: 0.9948 - val_loss: 0.0244 - val_acc: 0.9932\n",
      "Epoch 14/30\n",
      "60000/60000 [==============================] - 12s 194us/step - loss: 0.0134 - acc: 0.9956 - val_loss: 0.0298 - val_acc: 0.9922\n",
      "Epoch 15/30\n",
      "60000/60000 [==============================] - 12s 194us/step - loss: 0.0143 - acc: 0.9953 - val_loss: 0.0245 - val_acc: 0.9935\n",
      "Epoch 16/30\n",
      "60000/60000 [==============================] - 12s 194us/step - loss: 0.0137 - acc: 0.9955 - val_loss: 0.0240 - val_acc: 0.9932\n",
      "Epoch 17/30\n",
      "60000/60000 [==============================] - 12s 194us/step - loss: 0.0119 - acc: 0.9959 - val_loss: 0.0250 - val_acc: 0.9937\n",
      "Epoch 18/30\n",
      "60000/60000 [==============================] - 12s 194us/step - loss: 0.0119 - acc: 0.9961 - val_loss: 0.0294 - val_acc: 0.9936\n",
      "Epoch 19/30\n",
      "60000/60000 [==============================] - 12s 193us/step - loss: 0.0104 - acc: 0.9967 - val_loss: 0.0218 - val_acc: 0.9947\n",
      "Epoch 20/30\n",
      "60000/60000 [==============================] - 12s 194us/step - loss: 0.0107 - acc: 0.9966 - val_loss: 0.0261 - val_acc: 0.9934\n",
      "Epoch 21/30\n",
      "60000/60000 [==============================] - 12s 194us/step - loss: 0.0096 - acc: 0.9968 - val_loss: 0.0280 - val_acc: 0.9941\n",
      "Epoch 22/30\n",
      "60000/60000 [==============================] - 12s 194us/step - loss: 0.0100 - acc: 0.9968 - val_loss: 0.0274 - val_acc: 0.9946\n",
      "Epoch 23/30\n",
      "60000/60000 [==============================] - 12s 194us/step - loss: 0.0083 - acc: 0.9970 - val_loss: 0.0353 - val_acc: 0.9930\n",
      "Epoch 24/30\n",
      "60000/60000 [==============================] - 12s 193us/step - loss: 0.0094 - acc: 0.9970 - val_loss: 0.0304 - val_acc: 0.9936\n",
      "Epoch 25/30\n",
      "60000/60000 [==============================] - 12s 194us/step - loss: 0.0110 - acc: 0.9967 - val_loss: 0.0240 - val_acc: 0.9939\n",
      "Epoch 26/30\n",
      "60000/60000 [==============================] - 12s 194us/step - loss: 0.0074 - acc: 0.9975 - val_loss: 0.0265 - val_acc: 0.9948\n",
      "Epoch 27/30\n",
      "60000/60000 [==============================] - 12s 193us/step - loss: 0.0084 - acc: 0.9973 - val_loss: 0.0285 - val_acc: 0.9938\n",
      "Epoch 28/30\n",
      "60000/60000 [==============================] - 12s 194us/step - loss: 0.0079 - acc: 0.9974 - val_loss: 0.0272 - val_acc: 0.9951\n",
      "Epoch 29/30\n",
      "60000/60000 [==============================] - 12s 194us/step - loss: 0.0076 - acc: 0.9976 - val_loss: 0.0290 - val_acc: 0.9936\n",
      "Epoch 30/30\n",
      "60000/60000 [==============================] - 12s 195us/step - loss: 0.0073 - acc: 0.9977 - val_loss: 0.0304 - val_acc: 0.9941\n"
     ]
    }
   ],
   "source": [
    "history = model.fit(X_train, y_train,\n",
    "                    batch_size=128,\n",
    "                    epochs=30,\n",
    "                    verbose=1,\n",
    "                    validation_data=(X_test, y_test))"
   ]
  },
  {
   "cell_type": "code",
   "execution_count": 23,
   "metadata": {},
   "outputs": [
    {
     "name": "stdout",
     "output_type": "stream",
     "text": [
      "10000/10000 [==============================] - 1s 112us/step\n",
      "Test loss: 0.030439616963325578\n",
      "Test accuracy: 0.9941\n"
     ]
    }
   ],
   "source": [
    "score = model.evaluate(X_test, y_test, verbose=1)\n",
    "print('Test loss:', score[0]) \n",
    "print('Test accuracy:', score[1]) \n",
    "\n"
   ]
  },
  {
   "cell_type": "code",
   "execution_count": 24,
   "metadata": {},
   "outputs": [
    {
     "name": "stderr",
     "output_type": "stream",
     "text": [
      "C:\\Users\\kamru\\Anaconda3\\lib\\site-packages\\matplotlib\\cbook\\deprecation.py:107: MatplotlibDeprecationWarning: Passing one of 'on', 'true', 'off', 'false' as a boolean is deprecated; use an actual boolean (True/False) instead.\n",
      "  warnings.warn(message, mplDeprecation, stacklevel=1)\n"
     ]
    },
    {
     "data": {
      "image/png": "[encoded data removed]",
      "text/plain": [
       "<Figure size 432x288 with 1 Axes>"
      ]
     },
     "metadata": {},
     "output_type": "display_data"
    },
    {
     "data": {
      "image/png": "[encoded data removed]",
      "text/plain": [
       "<Figure size 432x288 with 1 Axes>"
      ]
     },
     "metadata": {},
     "output_type": "display_data"
    }
   ],
   "source": [
    "# plotting the metrics\n",
    "plt.figure()\n",
    "plt.plot(history.history['acc'])\n",
    "plt.plot(history.history['val_acc'])\n",
    "plt.title('model accuracy')\n",
    "plt.ylabel('accuracy')\n",
    "plt.xlabel('epoch')\n",
    "plt.grid('on')\n",
    "plt.legend(['train', 'test'], loc='lower right')\n",
    "\n",
    "\n",
    "\n",
    "plt.figure()\n",
    "plt.plot(history.history['loss'])\n",
    "plt.plot(history.history['val_loss'])\n",
    "plt.title('model loss')\n",
    "plt.ylabel('loss')\n",
    "plt.grid('on')\n",
    "plt.xlabel('epoch')\n",
    "plt.legend(['train', 'test'], loc='upper right')\n",
    "plt.tight_layout()"
   ]
  },
  {
   "cell_type": "code",
   "execution_count": null,
   "metadata": {
    "collapsed": true
   },
   "outputs": [],
   "source": []
  }
 ],
 "metadata": {
  "kernelspec": {
   "display_name": "Python 3",
   "language": "python",
   "name": "python3"
  },
  "language_info": {
   "codemirror_mode": {
    "name": "ipython",
    "version": 3
   },
   "file_extension": ".py",
   "mimetype": "text/x-python",
   "name": "python",
   "nbconvert_exporter": "python",
   "pygments_lexer": "ipython3",
   "version": "3.6.3"
  }
 },
 "nbformat": 4,
 "nbformat_minor": 2
}
