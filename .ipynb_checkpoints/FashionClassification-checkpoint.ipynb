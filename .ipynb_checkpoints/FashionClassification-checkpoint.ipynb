{
 "cells": [
  {
   "cell_type": "markdown",
   "metadata": {},
   "source": [
    "## Fashion MNIST classification"
   ]
  },
  {
   "cell_type": "code",
   "execution_count": 1,
   "metadata": {},
   "outputs": [
    {
     "name": "stderr",
     "output_type": "stream",
     "text": [
      "C:\\Users\\kamru\\Anaconda3\\lib\\site-packages\\h5py\\__init__.py:34: FutureWarning: Conversion of the second argument of issubdtype from `float` to `np.floating` is deprecated. In future, it will be treated as `np.float64 == np.dtype(float).type`.\n",
      "  from ._conv import register_converters as _register_converters\n",
      "Using TensorFlow backend.\n"
     ]
    }
   ],
   "source": [
    "from collections import defaultdict\n",
    "import os, glob, random, sys, time, keras, cv2, itertools, sklearn\n",
    "import matplotlib.pyplot as plt\n",
    "import numpy as np\n",
    "from sklearn.metrics import confusion_matrix\n",
    "from keras.preprocessing import image\n",
    "from sklearn.metrics import accuracy_score\n",
    "from keras.callbacks import ModelCheckpoint\n",
    "from keras.applications.vgg16 import VGG16, preprocess_input\n",
    "from keras.preprocessing.image import ImageDataGenerator\n",
    "from keras.optimizers import Adam\n",
    "from keras.models import Model\n",
    "from collections import Counter\n",
    "from matplotlib import pyplot as plt\n",
    "%matplotlib inline\n",
    "from sklearn.metrics import roc_curve, auc\n",
    "from scipy import interp\n",
    "from sklearn.metrics import classification_report\n",
    "from sklearn.metrics import precision_recall_curve, average_precision_score\n",
    "from sklearn.utils.fixes import signature\n",
    "from keras.utils import to_categorical\n",
    "from keras.datasets import fashion_mnist\n",
    "from keras.models import *\n",
    "from keras.layers import *"
   ]
  },
  {
   "cell_type": "code",
   "execution_count": 2,
   "metadata": {},
   "outputs": [],
   "source": [
    "#load mnist dataset\n",
    "(X_train, y_train), (X_test, y_test) = fashion_mnist.load_data()"
   ]
  },
  {
   "cell_type": "code",
   "execution_count": 3,
   "metadata": {},
   "outputs": [
    {
     "name": "stdout",
     "output_type": "stream",
     "text": [
      "(60000, 28, 28)\n",
      "(60000,)\n",
      "(10000, 28, 28)\n",
      "(10000,)\n"
     ]
    }
   ],
   "source": [
    "# Printing the shape of the Train and test Data\n",
    "print(X_train.shape)\n",
    "print(y_train.shape)\n",
    "print(X_test.shape)\n",
    "print(y_test.shape)"
   ]
  },
  {
   "cell_type": "code",
   "execution_count": 4,
   "metadata": {
    "collapsed": true
   },
   "outputs": [],
   "source": [
    "cDir=os.getcwd()\n",
    "for i in range(len(X_test)):\n",
    "    image=X_test[i,:,:]\n",
    "    img=image.reshape(28,28)\n",
    "    number='%04d'%i\n",
    "    path=cDir+'/test/'+str(number)+'.png'\n",
    "    cv2.imwrite(path,img)"
   ]
  },
  {
   "cell_type": "code",
   "execution_count": 5,
   "metadata": {
    "collapsed": true
   },
   "outputs": [],
   "source": [
    "# Comments\n",
    "# There are 60000 images in Training with the size 28x28\n",
    "# There are 10000 images in Test with the size 28x28"
   ]
  },
  {
   "cell_type": "code",
   "execution_count": 6,
   "metadata": {},
   "outputs": [
    {
     "data": {
      "image/png": "[encoded data removed]",
      "text/plain": [
       "<Figure size 432x288 with 10 Axes>"
      ]
     },
     "metadata": {},
     "output_type": "display_data"
    }
   ],
   "source": [
    "# Plot 0~9 Hand written digits for understanding\n",
    "x=np.unique(y_train)\n",
    "unique=[]\n",
    "\n",
    "for i in range(len(x)):\n",
    "    number=x[i]\n",
    "    for j in range(len(y_train)):\n",
    "        getNumber=y_train[j]\n",
    "        if getNumber==number:\n",
    "            unique.append(j)\n",
    "            break\n",
    "            \n",
    "fig = plt.figure()\n",
    "for i in range(len(unique)):\n",
    "    index=unique[i]\n",
    "    plt.subplot(5,2,i+1)\n",
    "    plt.tight_layout()\n",
    "    plt.imshow(X_train[index], cmap='gray', interpolation='none')\n",
    "    plt.title(\"Digit: {}\".format(y_train[index]))\n",
    "    plt.xticks([])\n",
    "    plt.yticks([])\n"
   ]
  },
  {
   "cell_type": "markdown",
   "metadata": {},
   "source": [
    "## Create the model with the VGG16"
   ]
  },
  {
   "cell_type": "code",
   "execution_count": 7,
   "metadata": {
    "collapsed": true
   },
   "outputs": [],
   "source": [
    "input_shape=(28,28,1)\n",
    "\n",
    "model = Sequential()\n",
    "\n",
    "model.add(Conv2D(32,\n",
    "                 kernel_size=(3, 3),\n",
    "                 activation='relu',\n",
    "                 input_shape=input_shape))\n",
    "\n",
    "model.add(Conv2D(64, \n",
    "                 kernel_size=(3, 3),\n",
    "                 activation='relu'))\n",
    "\n",
    "model.add(Conv2D(128, \n",
    "                 kernel_size=(3, 3),\n",
    "                 activation='relu'))\n",
    "\n",
    "model.add(MaxPooling2D(pool_size=(2, 2)))\n",
    "model.add(Dropout(0.25))\n",
    "\n",
    "model.add(Flatten())\n",
    "model.add(Dense(128, activation='relu'))\n",
    "\n",
    "model.add(Dropout(0.5))\n",
    "model.add(Dense(len(x), activation='softmax'))"
   ]
  },
  {
   "cell_type": "code",
   "execution_count": 8,
   "metadata": {},
   "outputs": [
    {
     "name": "stdout",
     "output_type": "stream",
     "text": [
      "_________________________________________________________________\n",
      "Layer (type)                 Output Shape              Param #   \n",
      "=================================================================\n",
      "conv2d_1 (Conv2D)            (None, 26, 26, 32)        320       \n",
      "_________________________________________________________________\n",
      "conv2d_2 (Conv2D)            (None, 24, 24, 64)        18496     \n",
      "_________________________________________________________________\n",
      "conv2d_3 (Conv2D)            (None, 22, 22, 128)       73856     \n",
      "_________________________________________________________________\n",
      "max_pooling2d_1 (MaxPooling2 (None, 11, 11, 128)       0         \n",
      "_________________________________________________________________\n",
      "dropout_1 (Dropout)          (None, 11, 11, 128)       0         \n",
      "_________________________________________________________________\n",
      "flatten_1 (Flatten)          (None, 15488)             0         \n",
      "_________________________________________________________________\n",
      "dense_1 (Dense)              (None, 128)               1982592   \n",
      "_________________________________________________________________\n",
      "dropout_2 (Dropout)          (None, 128)               0         \n",
      "_________________________________________________________________\n",
      "dense_2 (Dense)              (None, 10)                1290      \n",
      "=================================================================\n",
      "Total params: 2,076,554\n",
      "Trainable params: 2,076,554\n",
      "Non-trainable params: 0\n",
      "_________________________________________________________________\n",
      "0 conv2d_1\n",
      "1 conv2d_2\n",
      "2 conv2d_3\n",
      "3 max_pooling2d_1\n",
      "4 dropout_1\n",
      "5 flatten_1\n",
      "6 dense_1\n",
      "7 dropout_2\n",
      "8 dense_2\n"
     ]
    }
   ],
   "source": [
    "model.summary()\n",
    "\n",
    "model.compile(optimizer='adadelta',\n",
    "              loss='categorical_crossentropy',\n",
    "              metrics=['accuracy'])\n",
    "\n",
    "for i, layer in enumerate(model.layers):\n",
    "    print(i, layer.name)"
   ]
  },
  {
   "cell_type": "code",
   "execution_count": 9,
   "metadata": {},
   "outputs": [
    {
     "name": "stdout",
     "output_type": "stream",
     "text": [
      "X_train shape: (60000, 28, 28, 1)\n"
     ]
    }
   ],
   "source": [
    "img_rows, img_cols = 28, 28\n",
    "\n",
    "X_train = X_train.reshape(X_train.shape[0], img_rows, img_cols, 1)\n",
    "X_test = X_test.reshape(X_test.shape[0], img_rows, img_cols, 1)\n",
    "input_shape = (img_rows, img_cols, 1)\n",
    "\n",
    "#more reshaping\n",
    "X_train = X_train.astype('float32')\n",
    "X_test = X_test.astype('float32')\n",
    "X_train /= 255\n",
    "X_test /= 255\n",
    "\n",
    "print('X_train shape:', X_train.shape) \n",
    "#X_train shape: (60000, 28, 28, 1)\n",
    "# convert class vectors to binary class matrices\n",
    "\n",
    "y_train = to_categorical(y_train, len(x))\n",
    "y_test = to_categorical(y_test, len(x))"
   ]
  },
  {
   "cell_type": "code",
   "execution_count": 10,
   "metadata": {},
   "outputs": [
    {
     "name": "stdout",
     "output_type": "stream",
     "text": [
      "Train on 60000 samples, validate on 10000 samples\n",
      "Epoch 1/30\n",
      "60000/60000 [==============================] - 15s 250us/step - loss: 0.5797 - acc: 0.7934 - val_loss: 0.3666 - val_acc: 0.8712\n",
      "Epoch 2/30\n",
      "60000/60000 [==============================] - 12s 200us/step - loss: 0.3499 - acc: 0.8763 - val_loss: 0.2833 - val_acc: 0.8949\n",
      "Epoch 3/30\n",
      "60000/60000 [==============================] - 12s 200us/step - loss: 0.2952 - acc: 0.8943 - val_loss: 0.2730 - val_acc: 0.8969\n",
      "Epoch 4/30\n",
      "60000/60000 [==============================] - 12s 199us/step - loss: 0.2590 - acc: 0.9080 - val_loss: 0.2631 - val_acc: 0.9058\n",
      "Epoch 5/30\n",
      "60000/60000 [==============================] - 12s 202us/step - loss: 0.2332 - acc: 0.9170 - val_loss: 0.2355 - val_acc: 0.9156\n",
      "Epoch 6/30\n",
      "60000/60000 [==============================] - 12s 202us/step - loss: 0.2137 - acc: 0.9235 - val_loss: 0.2274 - val_acc: 0.9174\n",
      "Epoch 7/30\n",
      "60000/60000 [==============================] - 12s 202us/step - loss: 0.1964 - acc: 0.9291 - val_loss: 0.2256 - val_acc: 0.9214\n",
      "Epoch 8/30\n",
      "60000/60000 [==============================] - 12s 201us/step - loss: 0.1810 - acc: 0.9353 - val_loss: 0.2175 - val_acc: 0.9257\n",
      "Epoch 9/30\n",
      "60000/60000 [==============================] - 12s 203us/step - loss: 0.1682 - acc: 0.9398 - val_loss: 0.2297 - val_acc: 0.9208\n",
      "Epoch 10/30\n",
      "60000/60000 [==============================] - 12s 201us/step - loss: 0.1565 - acc: 0.9440 - val_loss: 0.2131 - val_acc: 0.9275\n",
      "Epoch 11/30\n",
      "60000/60000 [==============================] - 12s 204us/step - loss: 0.1434 - acc: 0.9476 - val_loss: 0.2354 - val_acc: 0.9201\n",
      "Epoch 12/30\n",
      "60000/60000 [==============================] - 12s 204us/step - loss: 0.1375 - acc: 0.9507 - val_loss: 0.2184 - val_acc: 0.9266\n",
      "Epoch 13/30\n",
      "60000/60000 [==============================] - 12s 202us/step - loss: 0.1261 - acc: 0.9547 - val_loss: 0.2385 - val_acc: 0.9306\n",
      "Epoch 14/30\n",
      "60000/60000 [==============================] - 12s 202us/step - loss: 0.1184 - acc: 0.9571 - val_loss: 0.2367 - val_acc: 0.9278\n",
      "Epoch 15/30\n",
      "60000/60000 [==============================] - 12s 203us/step - loss: 0.1095 - acc: 0.9600 - val_loss: 0.2531 - val_acc: 0.9235\n",
      "Epoch 16/30\n",
      "60000/60000 [==============================] - 12s 201us/step - loss: 0.1057 - acc: 0.9612 - val_loss: 0.2326 - val_acc: 0.9304\n",
      "Epoch 17/30\n",
      "60000/60000 [==============================] - 12s 203us/step - loss: 0.0989 - acc: 0.9639 - val_loss: 0.2331 - val_acc: 0.9277\n",
      "Epoch 18/30\n",
      "60000/60000 [==============================] - 12s 202us/step - loss: 0.0940 - acc: 0.9661 - val_loss: 0.2579 - val_acc: 0.9305\n",
      "Epoch 19/30\n",
      "60000/60000 [==============================] - 12s 202us/step - loss: 0.0894 - acc: 0.9678 - val_loss: 0.2474 - val_acc: 0.9306\n",
      "Epoch 20/30\n",
      "60000/60000 [==============================] - 12s 202us/step - loss: 0.0868 - acc: 0.9695 - val_loss: 0.2416 - val_acc: 0.9274\n",
      "Epoch 21/30\n",
      "60000/60000 [==============================] - 12s 202us/step - loss: 0.0832 - acc: 0.9703 - val_loss: 0.2653 - val_acc: 0.9295\n",
      "Epoch 22/30\n",
      "60000/60000 [==============================] - 12s 202us/step - loss: 0.0803 - acc: 0.9716 - val_loss: 0.2799 - val_acc: 0.9285\n",
      "Epoch 23/30\n",
      "60000/60000 [==============================] - 12s 202us/step - loss: 0.0765 - acc: 0.9729 - val_loss: 0.2353 - val_acc: 0.9282\n",
      "Epoch 24/30\n",
      "60000/60000 [==============================] - 12s 203us/step - loss: 0.0758 - acc: 0.9727 - val_loss: 0.3166 - val_acc: 0.9297\n",
      "Epoch 25/30\n",
      "60000/60000 [==============================] - 12s 201us/step - loss: 0.0733 - acc: 0.9737 - val_loss: 0.2429 - val_acc: 0.9303\n",
      "Epoch 26/30\n",
      "60000/60000 [==============================] - 12s 201us/step - loss: 0.0724 - acc: 0.9742 - val_loss: 0.2395 - val_acc: 0.9287\n",
      "Epoch 27/30\n",
      "60000/60000 [==============================] - 12s 201us/step - loss: 0.0699 - acc: 0.9751 - val_loss: 0.2968 - val_acc: 0.9317\n",
      "Epoch 28/30\n",
      "60000/60000 [==============================] - 12s 201us/step - loss: 0.0693 - acc: 0.9755 - val_loss: 0.2921 - val_acc: 0.9298\n",
      "Epoch 29/30\n",
      "60000/60000 [==============================] - 12s 201us/step - loss: 0.0684 - acc: 0.9760 - val_loss: 0.2978 - val_acc: 0.9301\n",
      "Epoch 30/30\n",
      "60000/60000 [==============================] - 12s 202us/step - loss: 0.0658 - acc: 0.9764 - val_loss: 0.3051 - val_acc: 0.9296\n"
     ]
    }
   ],
   "source": [
    "history = model.fit(X_train, y_train,\n",
    "                    batch_size=128,\n",
    "                    epochs=30,\n",
    "                    verbose=1,\n",
    "                    validation_data=(X_test, y_test))"
   ]
  },
  {
   "cell_type": "code",
   "execution_count": 11,
   "metadata": {},
   "outputs": [
    {
     "name": "stdout",
     "output_type": "stream",
     "text": [
      "10000/10000 [==============================] - 1s 110us/step\n",
      "Test loss: 0.3050662052407861\n",
      "Test accuracy: 0.9296\n"
     ]
    }
   ],
   "source": [
    "score = model.evaluate(X_test, y_test, verbose=1)\n",
    "print('Test loss:', score[0]) \n",
    "print('Test accuracy:', score[1]) \n",
    "\n",
    "\n",
    "# Test loss: 0.3041458921426907\n",
    "# Test accuracy: 0.9331"
   ]
  },
  {
   "cell_type": "code",
   "execution_count": 12,
   "metadata": {},
   "outputs": [
    {
     "name": "stderr",
     "output_type": "stream",
     "text": [
      "C:\\Users\\kamru\\Anaconda3\\lib\\site-packages\\matplotlib\\cbook\\deprecation.py:107: MatplotlibDeprecationWarning: Passing one of 'on', 'true', 'off', 'false' as a boolean is deprecated; use an actual boolean (True/False) instead.\n",
      "  warnings.warn(message, mplDeprecation, stacklevel=1)\n"
     ]
    },
    {
     "data": {
      "image/png": "[encoded data removed]",
      "text/plain": [
       "<Figure size 432x288 with 1 Axes>"
      ]
     },
     "metadata": {},
     "output_type": "display_data"
    },
    {
     "data": {
      "image/png": "[encoded data removed]",
      "text/plain": [
       "<Figure size 432x288 with 1 Axes>"
      ]
     },
     "metadata": {},
     "output_type": "display_data"
    }
   ],
   "source": [
    "# plotting the metrics\n",
    "plt.figure()\n",
    "plt.plot(history.history['acc'])\n",
    "plt.plot(history.history['val_acc'])\n",
    "plt.title('model accuracy')\n",
    "plt.ylabel('accuracy')\n",
    "plt.xlabel('epoch')\n",
    "plt.grid('on')\n",
    "plt.legend(['train', 'test'], loc='lower right')\n",
    "\n",
    "\n",
    "\n",
    "plt.figure()\n",
    "plt.plot(history.history['loss'])\n",
    "plt.plot(history.history['val_loss'])\n",
    "plt.title('model loss')\n",
    "plt.ylabel('loss')\n",
    "plt.grid('on')\n",
    "plt.xlabel('epoch')\n",
    "plt.legend(['train', 'test'], loc='upper right')\n",
    "plt.tight_layout()"
   ]
  },
  {
   "cell_type": "code",
   "execution_count": null,
   "metadata": {
    "collapsed": true
   },
   "outputs": [],
   "source": []
  }
 ],
 "metadata": {
  "kernelspec": {
   "display_name": "Python 3",
   "language": "python",
   "name": "python3"
  },
  "language_info": {
   "codemirror_mode": {
    "name": "ipython",
    "version": 3
   },
   "file_extension": ".py",
   "mimetype": "text/x-python",
   "name": "python",
   "nbconvert_exporter": "python",
   "pygments_lexer": "ipython3",
   "version": "3.6.3"
  }
 },
 "nbformat": 4,
 "nbformat_minor": 2
}
